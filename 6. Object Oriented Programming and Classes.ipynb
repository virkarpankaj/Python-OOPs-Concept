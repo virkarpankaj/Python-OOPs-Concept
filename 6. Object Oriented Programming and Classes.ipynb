{
 "cells": [
  {
   "cell_type": "markdown",
   "id": "c0a8cb08",
   "metadata": {},
   "source": [
    "### Object Oriented Programming Language\n",
    "\n",
    "* every thing is object\n",
    "* Class is template or blue print of real world entity\n",
    "* specific instance of a class is object\n",
    "* from a class multiple objects can be created\n",
    "    * Class - Mould ( ganesh Deva)\n",
    "    * objects - murti -- sachya pasun bharpur murtya banwta yetat\n",
    "* Methods ( behavior) & attributes(features, property) - can be assigned for different objects \n",
    "\n",
    "* used for reuse - DRY ( Don't Repeat Yourself)"
   ]
  },
  {
   "cell_type": "markdown",
   "id": "63b14a28",
   "metadata": {},
   "source": [
    "#### Important Concepts - Encapsulation, Abstraction, Polymorphism and Inheritance \n",
    "\n",
    "#### Decorator - Class, setter, Getter\n",
    "\n",
    "#### Double UnderScore - dunder Method - operator Overloading"
   ]
  },
  {
   "cell_type": "code",
   "execution_count": null,
   "id": "f74bdbe3",
   "metadata": {},
   "outputs": [],
   "source": []
  },
  {
   "cell_type": "code",
   "execution_count": 1,
   "id": "caebd7bd",
   "metadata": {},
   "outputs": [],
   "source": [
    "class Employee:\n",
    "    pass"
   ]
  },
  {
   "cell_type": "code",
   "execution_count": null,
   "id": "455728e9",
   "metadata": {},
   "outputs": [],
   "source": [
    "### name of class must be - Pascal Case\n",
    "# 1st letter capital"
   ]
  },
  {
   "cell_type": "code",
   "execution_count": 2,
   "id": "9601c162",
   "metadata": {},
   "outputs": [],
   "source": [
    "# creating object from the class - object Instanciation\n",
    "e1 = Employee()\n",
    "e2 = Employee()"
   ]
  },
  {
   "cell_type": "code",
   "execution_count": 3,
   "id": "f8e888e5",
   "metadata": {},
   "outputs": [
    {
     "name": "stdout",
     "output_type": "stream",
     "text": [
      "Type of e1:  <class '__main__.Employee'>\n",
      "Type of e1:  <class '__main__.Employee'>\n"
     ]
    }
   ],
   "source": [
    "print(\"Type of e1: \", type(e1))\n",
    "print(\"Type of e1: \", type(e2))"
   ]
  },
  {
   "cell_type": "code",
   "execution_count": 4,
   "id": "f09324c0",
   "metadata": {},
   "outputs": [
    {
     "name": "stdout",
     "output_type": "stream",
     "text": [
      "Id of object E1 :  2446803103360\n",
      "Id of object E2 :  2446803100480\n"
     ]
    }
   ],
   "source": [
    "print('Id of object E1 : ',id(e1))\n",
    "print('Id of object E2 : ',id(e2))"
   ]
  },
  {
   "cell_type": "code",
   "execution_count": 5,
   "id": "4dd172c4",
   "metadata": {},
   "outputs": [
    {
     "data": {
      "text/plain": [
       "<__main__.Employee at 0x239b0d46e80>"
      ]
     },
     "execution_count": 5,
     "metadata": {},
     "output_type": "execute_result"
    }
   ],
   "source": [
    "#location of object e1\n",
    "e1"
   ]
  },
  {
   "cell_type": "code",
   "execution_count": 6,
   "id": "18a13a99",
   "metadata": {},
   "outputs": [
    {
     "data": {
      "text/plain": [
       "<__main__.Employee at 0x239b0d46340>"
      ]
     },
     "execution_count": 6,
     "metadata": {},
     "output_type": "execute_result"
    }
   ],
   "source": [
    "#location of object e2\n",
    "e2"
   ]
  },
  {
   "cell_type": "code",
   "execution_count": 7,
   "id": "5631d95e",
   "metadata": {},
   "outputs": [],
   "source": [
    "class Employee:\n",
    "    '''\n",
    "    Help: An Employee class documentation\n",
    "    The instance of class can be used to create and manage Employee data\n",
    "    It stores info like, name, address, education details etc\n",
    "    '''\n",
    "    pass"
   ]
  },
  {
   "cell_type": "code",
   "execution_count": 8,
   "id": "73d06cd2",
   "metadata": {},
   "outputs": [
    {
     "name": "stdout",
     "output_type": "stream",
     "text": [
      "Help on class Employee in module __main__:\n",
      "\n",
      "class Employee(builtins.object)\n",
      " |  Help: An Employee class documentation\n",
      " |  The instance of class can be used to create and manage Employee data\n",
      " |  It stores info like, name, address, education details etc\n",
      " |  \n",
      " |  Data descriptors defined here:\n",
      " |  \n",
      " |  __dict__\n",
      " |      dictionary for instance variables (if defined)\n",
      " |  \n",
      " |  __weakref__\n",
      " |      list of weak references to the object (if defined)\n",
      "\n"
     ]
    }
   ],
   "source": [
    "# we can access for help for the class we just defined\n",
    "help(Employee)"
   ]
  },
  {
   "cell_type": "code",
   "execution_count": null,
   "id": "bbf5116b",
   "metadata": {},
   "outputs": [],
   "source": []
  },
  {
   "cell_type": "markdown",
   "id": "feb02d8d",
   "metadata": {},
   "source": [
    "* Class does not require memory, it requires memory only to store its meta data \n",
    "* it stores its meta data inside the dictionary\n",
    "* once the object is initiated / created memory is allocated\n",
    "* Each object creates its own dictionary\n",
    "\n",
    "* inside the same module we cant create class with same name, latest will over ride\n",
    "* out of module you can \n",
    "\n",
    "* __ refers to INTERNAL PYTHON\n",
    "\n",
    "* Packages - Module - methods - attributes"
   ]
  },
  {
   "cell_type": "code",
   "execution_count": 9,
   "id": "4ec74b34",
   "metadata": {},
   "outputs": [
    {
     "name": "stdout",
     "output_type": "stream",
     "text": [
      "Class Employee Dictionary to store its Meta Data :  {'__module__': '__main__', '__doc__': '\\n    Help: An Employee class documentation\\n    The instance of class can be used to create and manage Employee data\\n    It stores info like, name, address, education details etc\\n    ', '__dict__': <attribute '__dict__' of 'Employee' objects>, '__weakref__': <attribute '__weakref__' of 'Employee' objects>}\n"
     ]
    }
   ],
   "source": [
    "print('Class Employee Dictionary to store its Meta Data : ', Employee.__dict__)"
   ]
  },
  {
   "cell_type": "code",
   "execution_count": 10,
   "id": "4f21dc2b",
   "metadata": {},
   "outputs": [
    {
     "name": "stdout",
     "output_type": "stream",
     "text": [
      "Object of Class Employee has its own Dictionary :  {}\n"
     ]
    }
   ],
   "source": [
    "print('Object of Class Employee has its own Dictionary : ', e1.__dict__)"
   ]
  },
  {
   "cell_type": "code",
   "execution_count": 11,
   "id": "f28439a8",
   "metadata": {},
   "outputs": [
    {
     "name": "stdout",
     "output_type": "stream",
     "text": [
      "Object of Class Employee has its own Dictionary - for e2:  {}\n"
     ]
    }
   ],
   "source": [
    "print('Object of Class Employee has its own Dictionary - for e2: ', e2.__dict__)"
   ]
  },
  {
   "cell_type": "code",
   "execution_count": 12,
   "id": "09279dd1",
   "metadata": {},
   "outputs": [
    {
     "name": "stdout",
     "output_type": "stream",
     "text": [
      "e1 has stored @ : <__main__.Employee object at 0x00000239B0D46E80>\n"
     ]
    }
   ],
   "source": [
    "## alocation of memory - after instantiation\n",
    "\n",
    "print('e1 has stored @ :',e1)"
   ]
  },
  {
   "cell_type": "code",
   "execution_count": null,
   "id": "b37218ad",
   "metadata": {},
   "outputs": [],
   "source": []
  },
  {
   "cell_type": "code",
   "execution_count": null,
   "id": "5dc4edcc",
   "metadata": {},
   "outputs": [],
   "source": [
    "### Object have different features ( attributes) and different method\n",
    "## how to assign then"
   ]
  },
  {
   "cell_type": "code",
   "execution_count": null,
   "id": "735405bd",
   "metadata": {},
   "outputs": [],
   "source": [
    "### whenever object is created the first command it runs is __init__(self) \n",
    "# runs by default  - default value - empty object"
   ]
  },
  {
   "cell_type": "code",
   "execution_count": 13,
   "id": "3b77decb",
   "metadata": {},
   "outputs": [],
   "source": [
    "class Employee:\n",
    "    def __init__(self,firstname,lastname):\n",
    "        self.fn=firstname\n",
    "        self.ln=lastname\n",
    "\n",
    "## now whenever we have to call this we have to provide the 2 attributes        "
   ]
  },
  {
   "cell_type": "code",
   "execution_count": 14,
   "id": "b5c06a42",
   "metadata": {},
   "outputs": [],
   "source": [
    "panks=Employee('Pankaj','Virkar') # object creation"
   ]
  },
  {
   "cell_type": "code",
   "execution_count": 15,
   "id": "cca59a7b",
   "metadata": {},
   "outputs": [],
   "source": [
    "# by default 1st Parameter is ' SELF' - Gloabally accepted terminology - you can give other but readability of code matters\n",
    "# SELF refers to the object - recognises the object\n",
    "# for diff object self is diff"
   ]
  },
  {
   "cell_type": "code",
   "execution_count": 16,
   "id": "c8ea4be1",
   "metadata": {},
   "outputs": [],
   "source": [
    "e1 = Employee(\"Virat\", \"Kohli\")"
   ]
  },
  {
   "cell_type": "code",
   "execution_count": 17,
   "id": "4dc22eb5",
   "metadata": {},
   "outputs": [
    {
     "name": "stdout",
     "output_type": "stream",
     "text": [
      "e1 Dict:  {'fn': 'Virat', 'ln': 'Kohli'}\n"
     ]
    }
   ],
   "source": [
    "# how the data is stored inside the object dict\n",
    "print('e1 Dict: ', e1.__dict__)"
   ]
  },
  {
   "cell_type": "code",
   "execution_count": 18,
   "id": "66d7c1e8",
   "metadata": {},
   "outputs": [],
   "source": [
    "e2 = Employee(\"MS\", \"Dhoni\")\n",
    "#location of object e1"
   ]
  },
  {
   "cell_type": "code",
   "execution_count": null,
   "id": "00b213bc",
   "metadata": {},
   "outputs": [],
   "source": [
    "# fn & ln - keys\n",
    "## values \n",
    "# for each mould we creat object with diff features"
   ]
  },
  {
   "cell_type": "code",
   "execution_count": null,
   "id": "b2d4ed85",
   "metadata": {},
   "outputs": [],
   "source": []
  },
  {
   "cell_type": "code",
   "execution_count": 19,
   "id": "b98ecea3",
   "metadata": {},
   "outputs": [],
   "source": [
    "class Student:\n",
    "    def __init__(self,name):\n",
    "        self.name=name\n",
    "        self.grades=[]"
   ]
  },
  {
   "cell_type": "code",
   "execution_count": null,
   "id": "cd17d794",
   "metadata": {},
   "outputs": [],
   "source": [
    "# while creating object we need to pass 1 argument\n",
    "# how many key:value pairs it have created -- ?"
   ]
  },
  {
   "cell_type": "code",
   "execution_count": 20,
   "id": "d5545f22",
   "metadata": {},
   "outputs": [
    {
     "name": "stdout",
     "output_type": "stream",
     "text": [
      "getting the dict created object of Class student  {'name': 'Guru', 'grades': []}\n"
     ]
    }
   ],
   "source": [
    "s1=Student('Guru')\n",
    "print('getting the dict created object of Class student ',s1.__dict__)"
   ]
  },
  {
   "cell_type": "code",
   "execution_count": null,
   "id": "1992f6aa",
   "metadata": {},
   "outputs": [],
   "source": [
    "# it created dict for grades also"
   ]
  },
  {
   "cell_type": "code",
   "execution_count": 21,
   "id": "c948edbd",
   "metadata": {},
   "outputs": [
    {
     "ename": "TypeError",
     "evalue": "__init__() takes 2 positional arguments but 3 were given",
     "output_type": "error",
     "traceback": [
      "\u001b[1;31m---------------------------------------------------------------------------\u001b[0m",
      "\u001b[1;31mTypeError\u001b[0m                                 Traceback (most recent call last)",
      "\u001b[1;32m~\\AppData\\Local\\Temp/ipykernel_9332/4248203245.py\u001b[0m in \u001b[0;36m<module>\u001b[1;34m\u001b[0m\n\u001b[1;32m----> 1\u001b[1;33m \u001b[0ms\u001b[0m\u001b[1;33m=\u001b[0m\u001b[0mStudent\u001b[0m\u001b[1;33m(\u001b[0m\u001b[1;34m'pankaj'\u001b[0m\u001b[1;33m,\u001b[0m\u001b[1;34m'First Class with distinction'\u001b[0m\u001b[1;33m)\u001b[0m\u001b[1;33m\u001b[0m\u001b[1;33m\u001b[0m\u001b[0m\n\u001b[0m",
      "\u001b[1;31mTypeError\u001b[0m: __init__() takes 2 positional arguments but 3 were given"
     ]
    }
   ],
   "source": [
    "s=Student('pankaj','First Class with distinction')"
   ]
  },
  {
   "cell_type": "code",
   "execution_count": null,
   "id": "653cb9f5",
   "metadata": {},
   "outputs": [],
   "source": [
    "# only need to pass 1 argument"
   ]
  },
  {
   "cell_type": "code",
   "execution_count": null,
   "id": "48954dd7",
   "metadata": {},
   "outputs": [],
   "source": []
  },
  {
   "cell_type": "code",
   "execution_count": 22,
   "id": "d985111c",
   "metadata": {},
   "outputs": [],
   "source": [
    "class Student:\n",
    "    def __init__(self,name):\n",
    "        self.name=name\n",
    "        self.grades=[]\n",
    "    \n",
    "    def addGrade(self,marks):\n",
    "        '''\n",
    "        Call this function to add any grade for the student\n",
    "        '''\n",
    "        self.grades.append(marks)\n",
    "        \n",
    "    def getAverage(self):\n",
    "        return sum(self.grades)/len(self.grades)"
   ]
  },
  {
   "cell_type": "code",
   "execution_count": 23,
   "id": "2f457e2e",
   "metadata": {},
   "outputs": [],
   "source": [
    "s1=Student('Guru')"
   ]
  },
  {
   "cell_type": "code",
   "execution_count": 24,
   "id": "7bb952b9",
   "metadata": {
    "scrolled": true
   },
   "outputs": [],
   "source": [
    "s1.addGrade(78)"
   ]
  },
  {
   "cell_type": "code",
   "execution_count": 25,
   "id": "345dfaac",
   "metadata": {},
   "outputs": [],
   "source": [
    "s2 = Student(\"Ashwin\")"
   ]
  },
  {
   "cell_type": "code",
   "execution_count": 26,
   "id": "04d74025",
   "metadata": {},
   "outputs": [],
   "source": [
    "s2.addGrade(89)"
   ]
  },
  {
   "cell_type": "code",
   "execution_count": 27,
   "id": "7fbb3a6c",
   "metadata": {},
   "outputs": [
    {
     "name": "stdout",
     "output_type": "stream",
     "text": [
      "s1 dict {'name': 'Guru', 'grades': [78]}\n"
     ]
    }
   ],
   "source": [
    "print('s1 dict',s1.__dict__)"
   ]
  },
  {
   "cell_type": "code",
   "execution_count": 28,
   "id": "7a21e3a9",
   "metadata": {},
   "outputs": [
    {
     "name": "stdout",
     "output_type": "stream",
     "text": [
      "s2 dict {'name': 'Ashwin', 'grades': [89]}\n"
     ]
    }
   ],
   "source": [
    "print('s2 dict',s2.__dict__)"
   ]
  },
  {
   "cell_type": "code",
   "execution_count": 29,
   "id": "37853a3c",
   "metadata": {},
   "outputs": [],
   "source": [
    "s1.addGrade(87)\n",
    "s1.addGrade(98)\n",
    "s1.addGrade(91)"
   ]
  },
  {
   "cell_type": "code",
   "execution_count": 30,
   "id": "3ec89ef8",
   "metadata": {},
   "outputs": [
    {
     "name": "stdout",
     "output_type": "stream",
     "text": [
      "s1 dict {'name': 'Guru', 'grades': [78, 87, 98, 91]}\n"
     ]
    }
   ],
   "source": [
    "print('s1 dict',s1.__dict__)"
   ]
  },
  {
   "cell_type": "code",
   "execution_count": 31,
   "id": "5cdaec1d",
   "metadata": {},
   "outputs": [
    {
     "data": {
      "text/plain": [
       "88.5"
      ]
     },
     "execution_count": 31,
     "metadata": {},
     "output_type": "execute_result"
    }
   ],
   "source": [
    "s1.getAverage()"
   ]
  },
  {
   "cell_type": "code",
   "execution_count": 32,
   "id": "fc60f4ca",
   "metadata": {},
   "outputs": [
    {
     "data": {
      "text/plain": [
       "89.0"
      ]
     },
     "execution_count": 32,
     "metadata": {},
     "output_type": "execute_result"
    }
   ],
   "source": [
    "s2.getAverage()"
   ]
  },
  {
   "cell_type": "code",
   "execution_count": 33,
   "id": "f8693211",
   "metadata": {},
   "outputs": [
    {
     "name": "stdout",
     "output_type": "stream",
     "text": [
      "Help on class Student in module __main__:\n",
      "\n",
      "class Student(builtins.object)\n",
      " |  Student(name)\n",
      " |  \n",
      " |  Methods defined here:\n",
      " |  \n",
      " |  __init__(self, name)\n",
      " |      Initialize self.  See help(type(self)) for accurate signature.\n",
      " |  \n",
      " |  addGrade(self, marks)\n",
      " |      Call this function to add any grade for the student\n",
      " |  \n",
      " |  getAverage(self)\n",
      " |  \n",
      " |  ----------------------------------------------------------------------\n",
      " |  Data descriptors defined here:\n",
      " |  \n",
      " |  __dict__\n",
      " |      dictionary for instance variables (if defined)\n",
      " |  \n",
      " |  __weakref__\n",
      " |      list of weak references to the object (if defined)\n",
      "\n"
     ]
    }
   ],
   "source": [
    "help(Student)"
   ]
  },
  {
   "cell_type": "code",
   "execution_count": null,
   "id": "2d924a94",
   "metadata": {},
   "outputs": [],
   "source": []
  },
  {
   "cell_type": "code",
   "execution_count": 34,
   "id": "2058b3e6",
   "metadata": {},
   "outputs": [],
   "source": [
    "class Employee:\n",
    "    def __init__(self,firstname,lastname,age,salary):\n",
    "        self.fn=firstname\n",
    "        self.ln=lastname\n",
    "        self.age=age\n",
    "        self.sal=salary\n",
    "        self.email=f'{self.fn}.{self.ln}@gmail.com'\n",
    "        \n",
    "    def printDetails(self):\n",
    "        print(f'Employee Name is {self.fn} {self.ln}, Age is {self.age},Salary is {self.sal} & mail id is {self.email}')"
   ]
  },
  {
   "cell_type": "code",
   "execution_count": 35,
   "id": "93a05ef5",
   "metadata": {},
   "outputs": [
    {
     "name": "stdout",
     "output_type": "stream",
     "text": [
      "Employee Name is MS Dhoni, Age is 37,Salary is 150000 & mail id is MS.Dhoni@gmail.com\n"
     ]
    }
   ],
   "source": [
    "e1 = Employee(\"MS\", \"Dhoni\", 37, 150000)\n",
    "e1.printDetails()"
   ]
  },
  {
   "cell_type": "code",
   "execution_count": null,
   "id": "c12c61d9",
   "metadata": {},
   "outputs": [],
   "source": [
    "### creating the employee Count"
   ]
  },
  {
   "cell_type": "code",
   "execution_count": 36,
   "id": "9645ede0",
   "metadata": {},
   "outputs": [],
   "source": [
    "class Employee:\n",
    "    employee_count = 0  # class attribute - call inside function\n",
    "\n",
    "    def __init__(self, firstname, lastname, age, salary):\n",
    "        self.fn = firstname\n",
    "        self.ln = lastname\n",
    "        self.age = age\n",
    "        self.sal = salary\n",
    "        self.email = f'{self.fn}.{self.ln}@gmail.com'\n",
    "\n",
    "        self.eid = Employee.employee_count  # calling class atribute inside the object\n",
    "\n",
    "        Employee.employee_count += 1  # calling class atribute inside the object\n",
    "\n",
    "    def printDetails(self):\n",
    "        print(\n",
    "            f'Employee Name is {self.fn} {self.ln}, Age is {self.age},Salary is {self.sal} & mail id is {self.email} & Eid is {self.eid}'\n",
    "        )"
   ]
  },
  {
   "cell_type": "code",
   "execution_count": 37,
   "id": "30881c3b",
   "metadata": {},
   "outputs": [
    {
     "name": "stdout",
     "output_type": "stream",
     "text": [
      "Employee Name is S Dhawan, Age is 32,Salary is 100000 & mail id is S.Dhawan@gmail.com & Eid is 0\n"
     ]
    }
   ],
   "source": [
    "e1 = Employee(\"S\", \"Dhawan\", 32, 100000)\n",
    "e1.printDetails()"
   ]
  },
  {
   "cell_type": "code",
   "execution_count": 38,
   "id": "bcf29472",
   "metadata": {},
   "outputs": [
    {
     "data": {
      "text/plain": [
       "1"
      ]
     },
     "execution_count": 38,
     "metadata": {},
     "output_type": "execute_result"
    }
   ],
   "source": [
    "e1.employee_count"
   ]
  },
  {
   "cell_type": "code",
   "execution_count": 39,
   "id": "95b447f9",
   "metadata": {},
   "outputs": [
    {
     "name": "stdout",
     "output_type": "stream",
     "text": [
      "Employee Name is P Shaw, Age is 27,Salary is 50 & mail id is P.Shaw@gmail.com & Eid is 1\n"
     ]
    }
   ],
   "source": [
    "e2 = Employee(\"P\", \"Shaw\", 27, 50)\n",
    "e2.printDetails()"
   ]
  },
  {
   "cell_type": "code",
   "execution_count": 40,
   "id": "712d7bc3",
   "metadata": {
    "scrolled": true
   },
   "outputs": [
    {
     "name": "stdout",
     "output_type": "stream",
     "text": [
      "Employee dict :  {'__module__': '__main__', 'employee_count': 2, '__init__': <function Employee.__init__ at 0x00000239B2206DC0>, 'printDetails': <function Employee.printDetails at 0x00000239B2206EE0>, '__dict__': <attribute '__dict__' of 'Employee' objects>, '__weakref__': <attribute '__weakref__' of 'Employee' objects>, '__doc__': None}\n"
     ]
    }
   ],
   "source": [
    "#class attribute employee_count\n",
    "print(\"Employee dict : \", Employee.__dict__)"
   ]
  },
  {
   "cell_type": "code",
   "execution_count": 41,
   "id": "164a61fc",
   "metadata": {
    "scrolled": true
   },
   "outputs": [
    {
     "name": "stdout",
     "output_type": "stream",
     "text": [
      "e1 dict :  {'fn': 'S', 'ln': 'Dhawan', 'age': 32, 'sal': 100000, 'email': 'S.Dhawan@gmail.com', 'eid': 0}\n"
     ]
    }
   ],
   "source": [
    "#object dict has no attribute employee_count - coz it is class attribute\n",
    "print(\"e1 dict : \", e1.__dict__)"
   ]
  },
  {
   "cell_type": "code",
   "execution_count": 42,
   "id": "a67d881a",
   "metadata": {},
   "outputs": [
    {
     "name": "stdout",
     "output_type": "stream",
     "text": [
      "e2 dict :  {'fn': 'P', 'ln': 'Shaw', 'age': 27, 'sal': 50, 'email': 'P.Shaw@gmail.com', 'eid': 1}\n"
     ]
    }
   ],
   "source": [
    "print(\"e2 dict : \", e2.__dict__)"
   ]
  },
  {
   "cell_type": "code",
   "execution_count": 43,
   "id": "50d4b5f0",
   "metadata": {},
   "outputs": [
    {
     "data": {
      "text/plain": [
       "2"
      ]
     },
     "execution_count": 43,
     "metadata": {},
     "output_type": "execute_result"
    }
   ],
   "source": [
    "# it shows class attribute when object attribute is not there\n",
    "# accessing class attribute by Object\n",
    "# object attribute has 1st preference over class attribute \n",
    "e1.employee_count"
   ]
  },
  {
   "cell_type": "code",
   "execution_count": 44,
   "id": "93ed3566",
   "metadata": {},
   "outputs": [
    {
     "data": {
      "text/plain": [
       "2"
      ]
     },
     "execution_count": 44,
     "metadata": {},
     "output_type": "execute_result"
    }
   ],
   "source": [
    "e2.employee_count"
   ]
  },
  {
   "cell_type": "code",
   "execution_count": 45,
   "id": "e462ab89",
   "metadata": {},
   "outputs": [
    {
     "data": {
      "text/plain": [
       "'Shaw'"
      ]
     },
     "execution_count": 45,
     "metadata": {},
     "output_type": "execute_result"
    }
   ],
   "source": [
    "e2.ln"
   ]
  },
  {
   "cell_type": "code",
   "execution_count": 46,
   "id": "15c59cc0",
   "metadata": {},
   "outputs": [
    {
     "name": "stdout",
     "output_type": "stream",
     "text": [
      "2\n"
     ]
    }
   ],
   "source": [
    "print(Employee.employee_count)"
   ]
  },
  {
   "cell_type": "code",
   "execution_count": null,
   "id": "3e16e58c",
   "metadata": {},
   "outputs": [],
   "source": [
    "# all are exposed to public \n",
    "# then how to hide / restrict the access\n",
    "\n",
    "# actual functionality is hidden to end users"
   ]
  },
  {
   "cell_type": "code",
   "execution_count": null,
   "id": "ef491e1c",
   "metadata": {},
   "outputs": [],
   "source": [
    "# Encapsulation  -- works in same Class - dont want to expose how the functionality is implimented\n",
    " # all the functionality is enclosed or encapsulated inside the fun of class\n",
    "# Abstraction    --  across different class\n",
    "# Polymorphism\n",
    "# Inheritance"
   ]
  },
  {
   "cell_type": "code",
   "execution_count": 47,
   "id": "816611fe",
   "metadata": {},
   "outputs": [],
   "source": [
    "class Employee:\n",
    "    __employee_count= 0 # __ private - now you cant access this outside the class\n",
    "    # this can only be accessed inside the class - open to class only \n",
    "    def __init__(self,firstname,lastname,age,salary):\n",
    "        self.fn=firstname\n",
    "        self.ln=lastname\n",
    "        self.age=age\n",
    "        self.sal=salary\n",
    "        self.email=f'{self.fn}.{self.ln}@gmail.com'\n",
    "        self.eid=Employee.__employee_count # calling class atribute\n",
    "        Employee.__employee_count+=1\n",
    "        \n",
    "    def printDetails(self):\n",
    "        print(f'Employee Name is {self.fn} {self.ln}, Age is {self.age},Salary is {self.sal} & mail id is {self.email} & Eid is {self.eid}')"
   ]
  },
  {
   "cell_type": "code",
   "execution_count": 48,
   "id": "523c4f13",
   "metadata": {},
   "outputs": [
    {
     "name": "stdout",
     "output_type": "stream",
     "text": [
      "Employee Name is S Dhawan, Age is 32,Salary is 100 & mail id is S.Dhawan@gmail.com & Eid is 0\n"
     ]
    }
   ],
   "source": [
    "e1 = Employee(\"S\", \"Dhawan\", 32, 100)\n",
    "e1.printDetails()"
   ]
  },
  {
   "cell_type": "code",
   "execution_count": 49,
   "id": "8e6d492a",
   "metadata": {},
   "outputs": [
    {
     "name": "stdout",
     "output_type": "stream",
     "text": [
      "Employee Name is P Shaw, Age is 27,Salary is 50 & mail id is P.Shaw@gmail.com & Eid is 1\n"
     ]
    }
   ],
   "source": [
    "e2 = Employee(\"P\", \"Shaw\", 27, 50)\n",
    "e2.printDetails()"
   ]
  },
  {
   "cell_type": "code",
   "execution_count": null,
   "id": "73dbb56d",
   "metadata": {},
   "outputs": [],
   "source": [
    "### now you cant access - neither by object nor by class (outside the class)\n",
    "# only inside the class is allowed\n",
    "# not shown to the public whats is happening inside only result is shown -- encapsulated"
   ]
  },
  {
   "cell_type": "code",
   "execution_count": 50,
   "id": "7088f310",
   "metadata": {},
   "outputs": [
    {
     "ename": "AttributeError",
     "evalue": "'Employee' object has no attribute '__employee_count'",
     "output_type": "error",
     "traceback": [
      "\u001b[1;31m---------------------------------------------------------------------------\u001b[0m",
      "\u001b[1;31mAttributeError\u001b[0m                            Traceback (most recent call last)",
      "\u001b[1;32m~\\AppData\\Local\\Temp/ipykernel_9332/4260404737.py\u001b[0m in \u001b[0;36m<module>\u001b[1;34m\u001b[0m\n\u001b[0;32m      1\u001b[0m \u001b[1;31m# not accessible to object\u001b[0m\u001b[1;33m\u001b[0m\u001b[1;33m\u001b[0m\u001b[0m\n\u001b[1;32m----> 2\u001b[1;33m \u001b[0mprint\u001b[0m\u001b[1;33m(\u001b[0m\u001b[0me1\u001b[0m\u001b[1;33m.\u001b[0m\u001b[0m__employee_count\u001b[0m\u001b[1;33m)\u001b[0m\u001b[1;33m\u001b[0m\u001b[1;33m\u001b[0m\u001b[0m\n\u001b[0m",
      "\u001b[1;31mAttributeError\u001b[0m: 'Employee' object has no attribute '__employee_count'"
     ]
    }
   ],
   "source": [
    "# not accessible to object\n",
    "print(e1.__employee_count)"
   ]
  },
  {
   "cell_type": "code",
   "execution_count": 51,
   "id": "53cea3e5",
   "metadata": {},
   "outputs": [
    {
     "ename": "AttributeError",
     "evalue": "type object 'Employee' has no attribute '__employee_count'",
     "output_type": "error",
     "traceback": [
      "\u001b[1;31m---------------------------------------------------------------------------\u001b[0m",
      "\u001b[1;31mAttributeError\u001b[0m                            Traceback (most recent call last)",
      "\u001b[1;32m~\\AppData\\Local\\Temp/ipykernel_9332/2235481411.py\u001b[0m in \u001b[0;36m<module>\u001b[1;34m\u001b[0m\n\u001b[0;32m      1\u001b[0m \u001b[1;31m# not accessible to class when called outside\u001b[0m\u001b[1;33m\u001b[0m\u001b[1;33m\u001b[0m\u001b[0m\n\u001b[0;32m      2\u001b[0m \u001b[1;33m\u001b[0m\u001b[0m\n\u001b[1;32m----> 3\u001b[1;33m \u001b[0mprint\u001b[0m\u001b[1;33m(\u001b[0m\u001b[0mEmployee\u001b[0m\u001b[1;33m.\u001b[0m\u001b[0m__employee_count\u001b[0m\u001b[1;33m)\u001b[0m\u001b[1;33m\u001b[0m\u001b[1;33m\u001b[0m\u001b[0m\n\u001b[0m",
      "\u001b[1;31mAttributeError\u001b[0m: type object 'Employee' has no attribute '__employee_count'"
     ]
    }
   ],
   "source": [
    "# not accessible to class when called outside of class\n",
    "\n",
    "print(Employee.__employee_count)"
   ]
  },
  {
   "cell_type": "code",
   "execution_count": 52,
   "id": "5591da95",
   "metadata": {},
   "outputs": [
    {
     "name": "stdout",
     "output_type": "stream",
     "text": [
      "Employee dict :  {'__module__': '__main__', '_Employee__employee_count': 2, '__init__': <function Employee.__init__ at 0x00000239B221D0D0>, 'printDetails': <function Employee.printDetails at 0x00000239B221D160>, '__dict__': <attribute '__dict__' of 'Employee' objects>, '__weakref__': <attribute '__weakref__' of 'Employee' objects>, '__doc__': None}\n"
     ]
    }
   ],
   "source": [
    "#class attribute employee_count\n",
    "print(\"Employee dict : \", Employee.__dict__)"
   ]
  },
  {
   "cell_type": "code",
   "execution_count": null,
   "id": "82ee11fd",
   "metadata": {},
   "outputs": [],
   "source": [
    "# see the diff inside dict - now its Employee__employee_count from employee_count "
   ]
  },
  {
   "cell_type": "code",
   "execution_count": null,
   "id": "455efe65",
   "metadata": {},
   "outputs": [],
   "source": []
  },
  {
   "cell_type": "markdown",
   "id": "52948282",
   "metadata": {},
   "source": [
    "### then how will you access the private member inside the class\n",
    "    * private member is accessible only inside class - means to function within that class - we access through fun where we have called it inside\n",
    "    * so to get these we have to create the function"
   ]
  },
  {
   "cell_type": "code",
   "execution_count": null,
   "id": "3b9b832e",
   "metadata": {},
   "outputs": [],
   "source": [
    "# object level"
   ]
  },
  {
   "cell_type": "code",
   "execution_count": 53,
   "id": "9bd22848",
   "metadata": {},
   "outputs": [],
   "source": [
    "class Employee:\n",
    "    __employee_count= 0 # __ private - now you cant access this outside the class\n",
    "    # this can only be accessed inside the class - open to class only \n",
    "    def __init__(self,firstname,lastname,age,salary):\n",
    "        self.fn=firstname\n",
    "        self.ln=lastname\n",
    "        self.age=age\n",
    "        self.sal=salary\n",
    "        self.email=f'{self.fn}.{self.ln}@gmail.com'\n",
    "        self.eid=Employee.__employee_count # calling class atribute\n",
    "        Employee.__employee_count+=1\n",
    "        \n",
    "    def printDetails(self):\n",
    "        print(f'Employee Name is {self.fn} {self.ln}, Age is {self.age},Salary is {self.sal} & mail id is {self.email} & Eid is {self.eid}')\n",
    "    \n",
    "    def GetEmployeeCount(self):\n",
    "        return self.__employee_count"
   ]
  },
  {
   "cell_type": "code",
   "execution_count": 54,
   "id": "b7716c43",
   "metadata": {},
   "outputs": [
    {
     "name": "stdout",
     "output_type": "stream",
     "text": [
      "Employee Name is Rohit Sharma, Age is 34,Salary is 200000 & mail id is Rohit.Sharma@gmail.com & Eid is 0\n"
     ]
    }
   ],
   "source": [
    "e3 = Employee(\"Rohit\", \"Sharma\", 34, 200000)\n",
    "e3.printDetails()"
   ]
  },
  {
   "cell_type": "code",
   "execution_count": 55,
   "id": "45e37276",
   "metadata": {},
   "outputs": [
    {
     "name": "stdout",
     "output_type": "stream",
     "text": [
      "1\n"
     ]
    }
   ],
   "source": [
    "# now accessing inside details through Object\n",
    "# inside GetEmployeeCount(self=e3)\n",
    "#return e3.__employee_count() - shows result\n",
    "\n",
    "print(e3.GetEmployeeCount())"
   ]
  },
  {
   "cell_type": "code",
   "execution_count": 56,
   "id": "6d9810ca",
   "metadata": {},
   "outputs": [
    {
     "ename": "TypeError",
     "evalue": "GetEmployeeCount() missing 1 required positional argument: 'self'",
     "output_type": "error",
     "traceback": [
      "\u001b[1;31m---------------------------------------------------------------------------\u001b[0m",
      "\u001b[1;31mTypeError\u001b[0m                                 Traceback (most recent call last)",
      "\u001b[1;32m~\\AppData\\Local\\Temp/ipykernel_9332/1127395910.py\u001b[0m in \u001b[0;36m<module>\u001b[1;34m\u001b[0m\n\u001b[0;32m      3\u001b[0m \u001b[1;31m# GetEmployeeCount is called only using the object not by class\u001b[0m\u001b[1;33m\u001b[0m\u001b[1;33m\u001b[0m\u001b[0m\n\u001b[0;32m      4\u001b[0m \u001b[1;33m\u001b[0m\u001b[0m\n\u001b[1;32m----> 5\u001b[1;33m \u001b[0mprint\u001b[0m\u001b[1;33m(\u001b[0m\u001b[0mEmployee\u001b[0m\u001b[1;33m.\u001b[0m\u001b[0mGetEmployeeCount\u001b[0m\u001b[1;33m(\u001b[0m\u001b[1;33m)\u001b[0m\u001b[1;33m)\u001b[0m\u001b[1;33m\u001b[0m\u001b[1;33m\u001b[0m\u001b[0m\n\u001b[0m",
      "\u001b[1;31mTypeError\u001b[0m: GetEmployeeCount() missing 1 required positional argument: 'self'"
     ]
    }
   ],
   "source": [
    "# now accessing inside details through Class - not possible\n",
    "# self refers to object & from object you can't call private class\n",
    "# GetEmployeeCount is called only using the object not by class\n",
    "\n",
    "print(Employee.GetEmployeeCount())"
   ]
  },
  {
   "cell_type": "code",
   "execution_count": null,
   "id": "afc0c9a1",
   "metadata": {},
   "outputs": [],
   "source": []
  },
  {
   "cell_type": "markdown",
   "id": "f88d8f72",
   "metadata": {},
   "source": [
    "#### Accessing through the Class "
   ]
  },
  {
   "cell_type": "code",
   "execution_count": 57,
   "id": "5b49bc3a",
   "metadata": {},
   "outputs": [],
   "source": [
    "class Employee:\n",
    "    __employee_count= 0 # __ private - now you cant access this outside the class\n",
    "    # this can only be accessed inside the class - open to class only \n",
    "    def __init__(self,firstname,lastname,age,salary):\n",
    "        self.fn=firstname\n",
    "        self.ln=lastname\n",
    "        self.age=age\n",
    "        self.sal=salary\n",
    "        self.email=f'{self.fn}.{self.ln}@gmail.com'\n",
    "        self.eid=Employee.__employee_count # calling class atribute\n",
    "        Employee.__employee_count+=1\n",
    "        \n",
    "    def printDetails(self):\n",
    "        print(f'Employee Name is {self.fn} {self.ln}, Age is {self.age},Salary is {self.sal} & mail id is {self.email} & Eid is {self.eid}')\n",
    "    \n",
    "    @classmethod # decorator\n",
    "    def GetEmployeeCount(cls):\n",
    "        return cls.__employee_count"
   ]
  },
  {
   "cell_type": "code",
   "execution_count": 58,
   "id": "a5ae2d68",
   "metadata": {},
   "outputs": [
    {
     "name": "stdout",
     "output_type": "stream",
     "text": [
      "Employee Name is Surya Yadav, Age is 27,Salary is 80000 & mail id is Surya.Yadav@gmail.com & Eid is 0\n"
     ]
    }
   ],
   "source": [
    "e4 = Employee(\"Surya\", \"Yadav\", 27, 80000)\n",
    "e4.printDetails()"
   ]
  },
  {
   "cell_type": "code",
   "execution_count": 59,
   "id": "9202d4c1",
   "metadata": {},
   "outputs": [
    {
     "name": "stdout",
     "output_type": "stream",
     "text": [
      "1\n"
     ]
    }
   ],
   "source": [
    "# calling by object\n",
    "print(e4.GetEmployeeCount())"
   ]
  },
  {
   "cell_type": "code",
   "execution_count": 60,
   "id": "76afda99",
   "metadata": {},
   "outputs": [
    {
     "name": "stdout",
     "output_type": "stream",
     "text": [
      "1\n"
     ]
    }
   ],
   "source": [
    "# calling by class\n",
    "print(Employee.GetEmployeeCount())"
   ]
  },
  {
   "cell_type": "code",
   "execution_count": null,
   "id": "7814797b",
   "metadata": {},
   "outputs": [],
   "source": [
    "### from both we can call - by object & by cls\n",
    "### object is inherited from the parent class"
   ]
  },
  {
   "cell_type": "code",
   "execution_count": null,
   "id": "7e6455fc",
   "metadata": {},
   "outputs": [],
   "source": []
  },
  {
   "cell_type": "code",
   "execution_count": null,
   "id": "d6b60f8c",
   "metadata": {},
   "outputs": [],
   "source": [
    "## now how this is storing the info internally"
   ]
  },
  {
   "cell_type": "code",
   "execution_count": 58,
   "id": "e9af3c39",
   "metadata": {},
   "outputs": [
    {
     "name": "stdout",
     "output_type": "stream",
     "text": [
      "Class Dictionary {'__module__': '__main__', '_Employee__employee_count': 1, '__init__': <function Employee.__init__ at 0x0000017DB1987D30>, 'printDetails': <function Employee.printDetails at 0x0000017DB19879D0>, 'GetEmployeeCount': <classmethod object at 0x0000017DB189D940>, '__dict__': <attribute '__dict__' of 'Employee' objects>, '__weakref__': <attribute '__weakref__' of 'Employee' objects>, '__doc__': None}\n"
     ]
    }
   ],
   "source": [
    "print('Class Dictionary',Employee.__dict__)"
   ]
  },
  {
   "cell_type": "code",
   "execution_count": 59,
   "id": "3685826e",
   "metadata": {},
   "outputs": [
    {
     "name": "stdout",
     "output_type": "stream",
     "text": [
      "1\n"
     ]
    }
   ],
   "source": [
    "# in dict it has stored in ----     _Employee__employee_count': 1\n",
    "print(Employee._Employee__employee_count) # NOT A RECOMMENDED WAY"
   ]
  },
  {
   "cell_type": "code",
   "execution_count": 60,
   "id": "1a932900",
   "metadata": {},
   "outputs": [
    {
     "name": "stdout",
     "output_type": "stream",
     "text": [
      "1\n"
     ]
    }
   ],
   "source": [
    "print(e1._Employee__employee_count) # NOT A RECOMMENDED WAY"
   ]
  },
  {
   "cell_type": "code",
   "execution_count": null,
   "id": "85d269d1",
   "metadata": {},
   "outputs": [],
   "source": []
  },
  {
   "cell_type": "markdown",
   "id": "1fa12619",
   "metadata": {},
   "source": [
    "### Sorting"
   ]
  },
  {
   "cell_type": "code",
   "execution_count": 61,
   "id": "ebc5d45e",
   "metadata": {},
   "outputs": [
    {
     "name": "stdout",
     "output_type": "stream",
     "text": [
      "list of employee - [<__main__.Employee object at 0x00000239B33ABF70>, <__main__.Employee object at 0x00000239B33AB760>, <__main__.Employee object at 0x00000239B33AB430>]\n"
     ]
    }
   ],
   "source": [
    "class Employee:\n",
    "    \n",
    "    def __init__(self,name,age,salary):\n",
    "        self.name=name\n",
    "        self.age=age\n",
    "        self.salary=salary\n",
    "#     def __repr__(self):\n",
    "#         return f'{self.name}-{self.age}-{self.salary}'\n",
    "# reuns while printing \n",
    "\n",
    "e1=Employee('ABC',25,700)\n",
    "e2=Employee('DEF',85,7000)\n",
    "e3=Employee('XYZ',65,70)\n",
    "\n",
    "lstEmp = [e1,e2,e3] # w/p repr address # overloading\n",
    "\n",
    "print('list of employee -',lstEmp)"
   ]
  },
  {
   "cell_type": "code",
   "execution_count": null,
   "id": "6816ede2",
   "metadata": {},
   "outputs": [],
   "source": [
    "# only object is initiated"
   ]
  },
  {
   "cell_type": "code",
   "execution_count": 62,
   "id": "1ccbc864",
   "metadata": {},
   "outputs": [
    {
     "name": "stdout",
     "output_type": "stream",
     "text": [
      "list of employee - [ABC-25-700, DEF-85-7000, XYZ-65-70]\n"
     ]
    }
   ],
   "source": [
    "class Employee:\n",
    "    \n",
    "    def __init__(self,name,age,salary):\n",
    "        self.name=name\n",
    "        self.age=age\n",
    "        self.salary=salary\n",
    "    def __repr__(self):\n",
    "        return f'{self.name}-{self.age}-{self.salary}'\n",
    "    \n",
    "e1=Employee('ABC',25,700)\n",
    "e2=Employee('DEF',85,7000)\n",
    "e3=Employee('XYZ',65,70)\n",
    "\n",
    "lstEmp = [e1,e2,e3]\n",
    "\n",
    "print('list of employee -',lstEmp)"
   ]
  },
  {
   "cell_type": "code",
   "execution_count": null,
   "id": "e5081980",
   "metadata": {},
   "outputs": [],
   "source": [
    "# how to sort these employee based on lets say name/age/salary\n",
    "# we need to define a function"
   ]
  },
  {
   "cell_type": "code",
   "execution_count": 63,
   "id": "e9928cdd",
   "metadata": {},
   "outputs": [
    {
     "data": {
      "text/plain": [
       "'ABC'"
      ]
     },
     "execution_count": 63,
     "metadata": {},
     "output_type": "execute_result"
    }
   ],
   "source": [
    "e1.name"
   ]
  },
  {
   "cell_type": "code",
   "execution_count": 64,
   "id": "7c006ebe",
   "metadata": {},
   "outputs": [
    {
     "data": {
      "text/plain": [
       "85"
      ]
     },
     "execution_count": 64,
     "metadata": {},
     "output_type": "execute_result"
    }
   ],
   "source": [
    "e2.age"
   ]
  },
  {
   "cell_type": "code",
   "execution_count": 65,
   "id": "32f3b0a4",
   "metadata": {},
   "outputs": [
    {
     "data": {
      "text/plain": [
       "70"
      ]
     },
     "execution_count": 65,
     "metadata": {},
     "output_type": "execute_result"
    }
   ],
   "source": [
    "e3.salary"
   ]
  },
  {
   "cell_type": "code",
   "execution_count": 66,
   "id": "e2579a26",
   "metadata": {},
   "outputs": [],
   "source": [
    "def sortBasedOnName(e):\n",
    "    return e.name\n",
    "def sortBasedOnage(e):\n",
    "    return e.age\n",
    "def sortBasedOnSalary(e):\n",
    "    return e.salary"
   ]
  },
  {
   "cell_type": "code",
   "execution_count": 67,
   "id": "bacf0c90",
   "metadata": {
    "scrolled": true
   },
   "outputs": [
    {
     "name": "stdout",
     "output_type": "stream",
     "text": [
      "Employees sorted based on Name : [ABC-25-700, DEF-85-7000, XYZ-65-70]\n"
     ]
    }
   ],
   "source": [
    "name_sorted = sorted(lstEmp, key =sortBasedOnName)\n",
    "print('Employees sorted based on Name :',name_sorted)"
   ]
  },
  {
   "cell_type": "code",
   "execution_count": 68,
   "id": "2592d7dd",
   "metadata": {},
   "outputs": [
    {
     "name": "stdout",
     "output_type": "stream",
     "text": [
      "Employees sorted based on age : [ABC-25-700, XYZ-65-70, DEF-85-7000]\n"
     ]
    }
   ],
   "source": [
    "age_sorted = sorted(lstEmp, key =sortBasedOnage)\n",
    "print('Employees sorted based on age :',age_sorted)"
   ]
  },
  {
   "cell_type": "code",
   "execution_count": 69,
   "id": "baac740c",
   "metadata": {},
   "outputs": [
    {
     "name": "stdout",
     "output_type": "stream",
     "text": [
      "Employees sorted based on Salary : [XYZ-65-70, ABC-25-700, DEF-85-7000]\n"
     ]
    }
   ],
   "source": [
    "Salary_sorted = sorted(lstEmp, key =sortBasedOnSalary)\n",
    "print('Employees sorted based on Salary :',Salary_sorted)"
   ]
  },
  {
   "cell_type": "code",
   "execution_count": null,
   "id": "b62e381e",
   "metadata": {},
   "outputs": [],
   "source": [
    "### reverse Sorting"
   ]
  },
  {
   "cell_type": "code",
   "execution_count": 70,
   "id": "5bad10a6",
   "metadata": {},
   "outputs": [
    {
     "name": "stdout",
     "output_type": "stream",
     "text": [
      "Employees sorted based on Name : [XYZ-65-70, DEF-85-7000, ABC-25-700]\n",
      "Employees sorted based on age : [DEF-85-7000, XYZ-65-70, ABC-25-700]\n",
      "Employees sorted based on Salary : [DEF-85-7000, ABC-25-700, XYZ-65-70]\n"
     ]
    }
   ],
   "source": [
    "name_sorted = sorted(lstEmp, key =sortBasedOnName, reverse=True)\n",
    "print('Employees sorted based on Name :',name_sorted)\n",
    "\n",
    "age_sorted = sorted(lstEmp, key =sortBasedOnage, reverse=True)\n",
    "print('Employees sorted based on age :',age_sorted)\n",
    "\n",
    "Salary_sorted = sorted(lstEmp, key =sortBasedOnSalary, reverse=True)\n",
    "print('Employees sorted based on Salary :',Salary_sorted)\n"
   ]
  },
  {
   "cell_type": "code",
   "execution_count": null,
   "id": "0fbb9874",
   "metadata": {},
   "outputs": [],
   "source": []
  },
  {
   "cell_type": "markdown",
   "id": "8f1fc4da",
   "metadata": {},
   "source": [
    "### Sorting based on operator lib"
   ]
  },
  {
   "cell_type": "markdown",
   "id": "6d9d4719",
   "metadata": {},
   "source": [
    "#### Sort without Defining a function\n",
    "    * from operator import attrgetter"
   ]
  },
  {
   "cell_type": "code",
   "execution_count": 71,
   "id": "841db753",
   "metadata": {},
   "outputs": [],
   "source": [
    "from operator import attrgetter"
   ]
  },
  {
   "cell_type": "code",
   "execution_count": 72,
   "id": "1fe86cd2",
   "metadata": {},
   "outputs": [
    {
     "name": "stdout",
     "output_type": "stream",
     "text": [
      "Employees sorted based on Name : [ABC-25-700, DEF-85-7000, XYZ-65-70]\n",
      "Employees sorted based on age : [ABC-25-700, XYZ-65-70, DEF-85-7000]\n",
      "Employees sorted based on Salary : [XYZ-65-70, ABC-25-700, DEF-85-7000]\n"
     ]
    }
   ],
   "source": [
    "name_sorted = sorted(lstEmp, key = attrgetter('name'))\n",
    "print('Employees sorted based on Name :',name_sorted)\n",
    "\n",
    "age_sorted = sorted(lstEmp, key = attrgetter('age'))\n",
    "print('Employees sorted based on age :',age_sorted)\n",
    "\n",
    "Salary_sorted = sorted(lstEmp, key = attrgetter('salary'))\n",
    "print('Employees sorted based on Salary :',Salary_sorted)"
   ]
  },
  {
   "cell_type": "code",
   "execution_count": 73,
   "id": "2d9cb5cc",
   "metadata": {},
   "outputs": [
    {
     "name": "stdout",
     "output_type": "stream",
     "text": [
      "Employees sorted based on Name : [XYZ-65-70, DEF-85-7000, ABC-25-700]\n",
      "Employees sorted based on age : [DEF-85-7000, XYZ-65-70, ABC-25-700]\n",
      "Employees sorted based on Salary : [DEF-85-7000, ABC-25-700, XYZ-65-70]\n"
     ]
    }
   ],
   "source": [
    "### reverse\n",
    "name_sorted = sorted(lstEmp, key = attrgetter('name'), reverse=True)\n",
    "print('Employees sorted based on Name :',name_sorted)\n",
    "\n",
    "age_sorted = sorted(lstEmp, key = attrgetter('age'),reverse=True)\n",
    "print('Employees sorted based on age :',age_sorted)\n",
    "\n",
    "Salary_sorted = sorted(lstEmp, key = attrgetter('salary'),reverse=True)\n",
    "print('Employees sorted based on Salary :',Salary_sorted)"
   ]
  },
  {
   "cell_type": "code",
   "execution_count": null,
   "id": "771442a4",
   "metadata": {},
   "outputs": [],
   "source": []
  },
  {
   "cell_type": "code",
   "execution_count": 74,
   "id": "0b3f10d2",
   "metadata": {},
   "outputs": [],
   "source": [
    "from operator import itemgetter"
   ]
  },
  {
   "cell_type": "code",
   "execution_count": 75,
   "id": "02d01745",
   "metadata": {},
   "outputs": [],
   "source": [
    "list=[('ABC',25,700), ('DEF',85,7000), ('XYZ',65,70)]"
   ]
  },
  {
   "cell_type": "code",
   "execution_count": 76,
   "id": "884bdd68",
   "metadata": {},
   "outputs": [
    {
     "name": "stdout",
     "output_type": "stream",
     "text": [
      "Employees sorted based on Index 0 : [('ABC', 25, 700), ('DEF', 85, 7000), ('XYZ', 65, 70)]\n",
      "Employees sorted based on Index 1: [('ABC', 25, 700), ('XYZ', 65, 70), ('DEF', 85, 7000)]\n",
      "Employees sorted based on Index 2: [('XYZ', 65, 70), ('ABC', 25, 700), ('DEF', 85, 7000)]\n"
     ]
    }
   ],
   "source": [
    "sorted_ind0=sorted(list,key=itemgetter(0))\n",
    "print('Employees sorted based on Index 0 :',sorted_ind0)\n",
    "\n",
    "sorted_ind1=sorted(list,key=itemgetter(1))\n",
    "print('Employees sorted based on Index 1:',sorted_ind1)\n",
    "\n",
    "sorted_ind2=sorted(list,key=itemgetter(2))\n",
    "print('Employees sorted based on Index 2:',sorted_ind2)"
   ]
  },
  {
   "cell_type": "code",
   "execution_count": 77,
   "id": "caf2b7ec",
   "metadata": {},
   "outputs": [
    {
     "name": "stdout",
     "output_type": "stream",
     "text": [
      "Employees sorted based on Index 0 : [('XYZ', 65, 70), ('DEF', 85, 7000), ('ABC', 25, 700)]\n",
      "Employees sorted based on Index 1: [('DEF', 85, 7000), ('XYZ', 65, 70), ('ABC', 25, 700)]\n",
      "Employees sorted based on Index 2: [('DEF', 85, 7000), ('ABC', 25, 700), ('XYZ', 65, 70)]\n"
     ]
    }
   ],
   "source": [
    "sorted_ind0=sorted(list,key=itemgetter(0),reverse=True)\n",
    "print('Employees sorted based on Index 0 :',sorted_ind0)\n",
    "\n",
    "sorted_ind1=sorted(list,key=itemgetter(1),reverse=True)\n",
    "print('Employees sorted based on Index 1:',sorted_ind1)\n",
    "\n",
    "sorted_ind2=sorted(list,key=itemgetter(2),reverse=True)\n",
    "print('Employees sorted based on Index 2:',sorted_ind2)"
   ]
  },
  {
   "cell_type": "code",
   "execution_count": null,
   "id": "ed08dc78",
   "metadata": {},
   "outputs": [],
   "source": []
  },
  {
   "cell_type": "markdown",
   "id": "c53e3567",
   "metadata": {},
   "source": [
    "### Inheritance\n",
    "\n",
    "    * Single Inheritance - 1 parent & 1 child\n",
    "    * Multi Level Inheritance - 1 parent & multiple child - vertical\n",
    "    * Multiple Inheritance - multiple parent & 1 or more child\n",
    "    * Hierarchical Inheritance\n",
    "    * Hybrid Inheritance"
   ]
  },
  {
   "cell_type": "code",
   "execution_count": 78,
   "id": "78a2413e",
   "metadata": {},
   "outputs": [],
   "source": [
    "class Employee:\n",
    "    \n",
    "    def __init__(self,firstname,lastname,age,salary):\n",
    "        self.fn=firstname\n",
    "        self.ln=lastname\n",
    "        self.age=age\n",
    "        self.salary=salary\n",
    "        self.mail=self.fn + '.'+self.ln +'@gmail.com'\n",
    "    \n",
    "    def printDetails(self):\n",
    "        print(f'Employee details: Name- {self.fn} {self.ln} \\n Age-: {self.age} \\n Salary-{self.salary} \\n MailId-{self.mail}')\n",
    "        \n",
    "\n",
    "# inherited / derived / subclass / child\n",
    "class Devloper(Employee):\n",
    "    pass\n",
    "    \n",
    "            "
   ]
  },
  {
   "cell_type": "code",
   "execution_count": 79,
   "id": "e206a6bc",
   "metadata": {},
   "outputs": [],
   "source": [
    "e1=Employee('Rohit','Sharma',32,200000)"
   ]
  },
  {
   "cell_type": "code",
   "execution_count": 80,
   "id": "fb4309a7",
   "metadata": {},
   "outputs": [],
   "source": [
    "# has to give all 4 args\n",
    "e2=Devloper('Virendra',\"Sehwag\",38,250000)"
   ]
  },
  {
   "cell_type": "code",
   "execution_count": 81,
   "id": "e26c27e8",
   "metadata": {},
   "outputs": [
    {
     "name": "stdout",
     "output_type": "stream",
     "text": [
      "Employee details: Name- Rohit Sharma \n",
      " Age-: 32 \n",
      " Salary-200000 \n",
      " MailId-Rohit.Sharma@gmail.com\n"
     ]
    }
   ],
   "source": [
    "e1.printDetails()"
   ]
  },
  {
   "cell_type": "code",
   "execution_count": 82,
   "id": "c01c9509",
   "metadata": {},
   "outputs": [
    {
     "name": "stdout",
     "output_type": "stream",
     "text": [
      "Employee details: Name- Virendra Sehwag \n",
      " Age-: 38 \n",
      " Salary-250000 \n",
      " MailId-Virendra.Sehwag@gmail.com\n"
     ]
    }
   ],
   "source": [
    "e2.printDetails()"
   ]
  },
  {
   "cell_type": "code",
   "execution_count": null,
   "id": "088cff6b",
   "metadata": {},
   "outputs": [],
   "source": [
    "# Employee - Parent Class\n",
    "# Devloper - child class"
   ]
  },
  {
   "cell_type": "code",
   "execution_count": null,
   "id": "1c981f71",
   "metadata": {},
   "outputs": [],
   "source": []
  },
  {
   "cell_type": "code",
   "execution_count": 83,
   "id": "2f0baa5e",
   "metadata": {},
   "outputs": [],
   "source": [
    "class Employee:\n",
    "    \n",
    "    def __init__(self,firstname,lastname,age,salary):\n",
    "        self.fn=firstname\n",
    "        self.ln=lastname\n",
    "        self.age=age\n",
    "        self.salary=salary\n",
    "        self.mail=self.fn + '.'+self.ln +'@gmail.com'\n",
    "    \n",
    "    def printDetails(self):\n",
    "        print(f'Employee details: Name- {self.fn} {self.ln} \\n Age-: {self.age} \\n Salary-{self.salary} \\n MailId-{self.mail}')\n",
    "        \n",
    "class Devloper(Employee):\n",
    "    def __init__(self,firstname,lastname,age,salary,language):\n",
    "        #Employee.__init__(firstname,lastname,age,salary)\n",
    "        super().__init__(firstname,lastname,age,salary)\n",
    "        self.lang=language\n",
    "    def printDetailsChild(self):\n",
    "        return  print(f'Employee works on {self.lang} language')\n",
    "            "
   ]
  },
  {
   "cell_type": "code",
   "execution_count": 84,
   "id": "9360a057",
   "metadata": {},
   "outputs": [],
   "source": [
    "e3=Employee('Saurabh','Ganguly',44,450000)\n",
    "e4=Devloper('Gautam','Gambhir',37,300000,'Python')"
   ]
  },
  {
   "cell_type": "code",
   "execution_count": 85,
   "id": "d520b538",
   "metadata": {},
   "outputs": [
    {
     "name": "stdout",
     "output_type": "stream",
     "text": [
      "Employee details: Name- Saurabh Ganguly \n",
      " Age-: 44 \n",
      " Salary-450000 \n",
      " MailId-Saurabh.Ganguly@gmail.com\n"
     ]
    }
   ],
   "source": [
    "e3.printDetails()"
   ]
  },
  {
   "cell_type": "code",
   "execution_count": 86,
   "id": "a93c8a69",
   "metadata": {},
   "outputs": [
    {
     "name": "stdout",
     "output_type": "stream",
     "text": [
      "Employee details: Name- Gautam Gambhir \n",
      " Age-: 37 \n",
      " Salary-300000 \n",
      " MailId-Gautam.Gambhir@gmail.com\n"
     ]
    }
   ],
   "source": [
    "e4.printDetails()"
   ]
  },
  {
   "cell_type": "code",
   "execution_count": 87,
   "id": "0b4c57bf",
   "metadata": {},
   "outputs": [
    {
     "name": "stdout",
     "output_type": "stream",
     "text": [
      "Employee works on Python language\n"
     ]
    }
   ],
   "source": [
    "e4.printDetailsChild()"
   ]
  },
  {
   "cell_type": "code",
   "execution_count": 88,
   "id": "93c7bd4e",
   "metadata": {},
   "outputs": [
    {
     "ename": "AttributeError",
     "evalue": "'Employee' object has no attribute 'printDetailsChild'",
     "output_type": "error",
     "traceback": [
      "\u001b[1;31m---------------------------------------------------------------------------\u001b[0m",
      "\u001b[1;31mAttributeError\u001b[0m                            Traceback (most recent call last)",
      "\u001b[1;32m~\\AppData\\Local\\Temp/ipykernel_9332/4187442029.py\u001b[0m in \u001b[0;36m<module>\u001b[1;34m\u001b[0m\n\u001b[0;32m      1\u001b[0m \u001b[1;31m# parent cant access child\u001b[0m\u001b[1;33m\u001b[0m\u001b[1;33m\u001b[0m\u001b[0m\n\u001b[1;32m----> 2\u001b[1;33m \u001b[0me3\u001b[0m\u001b[1;33m.\u001b[0m\u001b[0mprintDetailsChild\u001b[0m\u001b[1;33m(\u001b[0m\u001b[1;33m)\u001b[0m\u001b[1;33m\u001b[0m\u001b[1;33m\u001b[0m\u001b[0m\n\u001b[0m",
      "\u001b[1;31mAttributeError\u001b[0m: 'Employee' object has no attribute 'printDetailsChild'"
     ]
    }
   ],
   "source": [
    "# parent cant access child\n",
    "e3.printDetailsChild()"
   ]
  },
  {
   "cell_type": "code",
   "execution_count": null,
   "id": "536b34f6",
   "metadata": {},
   "outputs": [],
   "source": []
  },
  {
   "cell_type": "markdown",
   "id": "971dbec9",
   "metadata": {},
   "source": [
    "### Abstraction\n",
    "\n",
    "    * Abstraction is across the classes (unlike encapsulation which is within the class)\n",
    "    * LG Sony Samsung \n",
    "    * R1  R2  R3\n",
    "\n",
    "    * universal Tv - physically not present (just assumed)\n",
    "    * Univ Remote R - functionality common across\n",
    "        - Volume change \n",
    "        - brightness change\n",
    "        - channel change \n",
    "    * common functionality must be there so that in can be accessed "
   ]
  },
  {
   "cell_type": "code",
   "execution_count": 89,
   "id": "d2daf35c",
   "metadata": {},
   "outputs": [],
   "source": [
    "from abc import ABC, abstractmethod"
   ]
  },
  {
   "cell_type": "code",
   "execution_count": null,
   "id": "8122a456",
   "metadata": {},
   "outputs": [],
   "source": []
  },
  {
   "cell_type": "code",
   "execution_count": 90,
   "id": "bb32eee0",
   "metadata": {},
   "outputs": [],
   "source": [
    "# creating child class from parent ABC Class\n",
    "class Shape(ABC):\n",
    "    @abstractmethod\n",
    "        \n",
    "    def area(self):\n",
    "        pass\n",
    "    def printName(self):\n",
    "        print ('In shape Class')\n"
   ]
  },
  {
   "cell_type": "code",
   "execution_count": 91,
   "id": "652ebae9",
   "metadata": {
    "scrolled": true
   },
   "outputs": [
    {
     "ename": "TypeError",
     "evalue": "Can't instantiate abstract class Shape with abstract method area",
     "output_type": "error",
     "traceback": [
      "\u001b[1;31m---------------------------------------------------------------------------\u001b[0m",
      "\u001b[1;31mTypeError\u001b[0m                                 Traceback (most recent call last)",
      "\u001b[1;32m~\\AppData\\Local\\Temp/ipykernel_9332/1463529384.py\u001b[0m in \u001b[0;36m<module>\u001b[1;34m\u001b[0m\n\u001b[1;32m----> 1\u001b[1;33m \u001b[0ms1\u001b[0m\u001b[1;33m=\u001b[0m\u001b[0mShape\u001b[0m\u001b[1;33m(\u001b[0m\u001b[1;33m)\u001b[0m\u001b[1;33m\u001b[0m\u001b[1;33m\u001b[0m\u001b[0m\n\u001b[0m",
      "\u001b[1;31mTypeError\u001b[0m: Can't instantiate abstract class Shape with abstract method area"
     ]
    }
   ],
   "source": [
    "s1=Shape()"
   ]
  },
  {
   "cell_type": "code",
   "execution_count": null,
   "id": "4e992eb5",
   "metadata": {},
   "outputs": [],
   "source": [
    "## you cant create object out of it\n",
    "# it is just templet to tell other class what to do\n",
    "# ex. like universal TV - virtual\n",
    "# from obstract method you cant create object\n"
   ]
  },
  {
   "cell_type": "code",
   "execution_count": 93,
   "id": "a05fbcea",
   "metadata": {},
   "outputs": [],
   "source": [
    "# what if we write obove the abstract ??? check later\n",
    "\n",
    "class Shape1(ABC):\n",
    "    \n",
    "    def area(self):\n",
    "        pass\n",
    "    def printName(self):\n",
    "        print('In shape class')\n",
    "        \n",
    "    @abstractmethod\n",
    "    \n",
    "    def vol(self):\n",
    "        pass"
   ]
  },
  {
   "cell_type": "code",
   "execution_count": 94,
   "id": "4031e514",
   "metadata": {},
   "outputs": [
    {
     "ename": "TypeError",
     "evalue": "Can't instantiate abstract class Shape1 with abstract method vol",
     "output_type": "error",
     "traceback": [
      "\u001b[1;31m---------------------------------------------------------------------------\u001b[0m",
      "\u001b[1;31mTypeError\u001b[0m                                 Traceback (most recent call last)",
      "\u001b[1;32m~\\AppData\\Local\\Temp/ipykernel_9332/3443082475.py\u001b[0m in \u001b[0;36m<module>\u001b[1;34m\u001b[0m\n\u001b[1;32m----> 1\u001b[1;33m \u001b[0mobj_instance\u001b[0m \u001b[1;33m=\u001b[0m \u001b[0mShape1\u001b[0m\u001b[1;33m(\u001b[0m\u001b[1;33m)\u001b[0m\u001b[1;33m\u001b[0m\u001b[1;33m\u001b[0m\u001b[0m\n\u001b[0m",
      "\u001b[1;31mTypeError\u001b[0m: Can't instantiate abstract class Shape1 with abstract method vol"
     ]
    }
   ],
   "source": [
    "obj_instance = Shape1()"
   ]
  },
  {
   "cell_type": "code",
   "execution_count": 95,
   "id": "9bbe2912",
   "metadata": {},
   "outputs": [],
   "source": [
    "class Shape2(ABC):\n",
    "    \n",
    "    def area(self):\n",
    "        pass\n",
    "    def printName(self):\n",
    "        print('In shape class')"
   ]
  },
  {
   "cell_type": "code",
   "execution_count": 96,
   "id": "4fd009e4",
   "metadata": {},
   "outputs": [],
   "source": [
    "obj_instance1 = Shape2()"
   ]
  },
  {
   "cell_type": "code",
   "execution_count": null,
   "id": "97a6b5a1",
   "metadata": {},
   "outputs": [],
   "source": [
    "# Can't instantiate abstract class "
   ]
  },
  {
   "cell_type": "code",
   "execution_count": null,
   "id": "9fe340ab",
   "metadata": {},
   "outputs": [],
   "source": []
  },
  {
   "cell_type": "code",
   "execution_count": 97,
   "id": "4083291d",
   "metadata": {},
   "outputs": [],
   "source": [
    "class Shape(ABC):\n",
    "    @abstractmethod\n",
    "    \n",
    "    def area(self):\n",
    "        pass\n",
    "    def printName(self):\n",
    "        print ('In shape Class')\n",
    "\n",
    "# like say Sony TV here\n",
    "\n",
    "class Square(Shape):\n",
    "    def __init__(self,length):\n",
    "        self.length=length\n",
    "#     def area(self):\n",
    "#         print('Square Area :',self.length**2)\n",
    "\n",
    "# what will happen as we haven't def sq,  wil d object get created?"
   ]
  },
  {
   "cell_type": "code",
   "execution_count": 98,
   "id": "7790590b",
   "metadata": {},
   "outputs": [
    {
     "ename": "TypeError",
     "evalue": "Can't instantiate abstract class Square with abstract method area",
     "output_type": "error",
     "traceback": [
      "\u001b[1;31m---------------------------------------------------------------------------\u001b[0m",
      "\u001b[1;31mTypeError\u001b[0m                                 Traceback (most recent call last)",
      "\u001b[1;32m~\\AppData\\Local\\Temp/ipykernel_9332/1210843834.py\u001b[0m in \u001b[0;36m<module>\u001b[1;34m\u001b[0m\n\u001b[1;32m----> 1\u001b[1;33m \u001b[0msq\u001b[0m\u001b[1;33m=\u001b[0m\u001b[0mSquare\u001b[0m\u001b[1;33m(\u001b[0m\u001b[1;36m5\u001b[0m\u001b[1;33m)\u001b[0m\u001b[1;33m\u001b[0m\u001b[1;33m\u001b[0m\u001b[0m\n\u001b[0m",
      "\u001b[1;31mTypeError\u001b[0m: Can't instantiate abstract class Square with abstract method area"
     ]
    }
   ],
   "source": [
    "sq=Square(5)"
   ]
  },
  {
   "cell_type": "code",
   "execution_count": 99,
   "id": "ba9b6516",
   "metadata": {},
   "outputs": [],
   "source": [
    "class Shape(ABC):\n",
    "    @abstractmethod\n",
    "    \n",
    "    def area(self):\n",
    "        pass\n",
    "    def printName(self):\n",
    "        print ('In shape Class')\n",
    "\n",
    "# like say Sony TV here\n",
    "# comman functionality defined\n",
    "# unless we implement the area method in class which is derived from Shape class object cant be created\n",
    "\n",
    "class Square(Shape):\n",
    "    def __init__(self,length):\n",
    "        self.length=length\n",
    "    def area(self):\n",
    "        print('Square Area :',self.length**2)"
   ]
  },
  {
   "cell_type": "code",
   "execution_count": 100,
   "id": "7c577849",
   "metadata": {},
   "outputs": [],
   "source": [
    "sq2=Square(5)"
   ]
  },
  {
   "cell_type": "code",
   "execution_count": 101,
   "id": "60cf9310",
   "metadata": {},
   "outputs": [
    {
     "name": "stdout",
     "output_type": "stream",
     "text": [
      "Square Area : 25\n"
     ]
    }
   ],
   "source": [
    "sq2.area()"
   ]
  },
  {
   "cell_type": "code",
   "execution_count": 102,
   "id": "60a58802",
   "metadata": {},
   "outputs": [
    {
     "name": "stdout",
     "output_type": "stream",
     "text": [
      "In shape Class\n"
     ]
    }
   ],
   "source": [
    "# accessing the parent class \n",
    "sq2.printName()"
   ]
  },
  {
   "cell_type": "code",
   "execution_count": 103,
   "id": "2ff9cbc5",
   "metadata": {},
   "outputs": [],
   "source": [
    "### creating more common functionality \n",
    "\n",
    "class Shape(ABC):\n",
    "    @abstractmethod\n",
    "    def area(self):\n",
    "        pass\n",
    "    def printName(self):\n",
    "        print ('In shape Class')\n",
    "\n",
    "# derived from shape\n",
    "class Square(Shape):\n",
    "    def __init__(self,length):\n",
    "        self.length=length\n",
    "    def areaofSq(self):                                ### not area of ABC CLASS\n",
    "        print('Square Area :',self.length**2)\n",
    "\n",
    "# derived from shape\n",
    "class Rectangle(Shape):\n",
    "    def __init__(self,l,b):\n",
    "        self.l=l\n",
    "        self.b=b\n",
    "    def areaofRect(self):                             ### not area of ABC CLASS\n",
    "        print('Square Area :',self.l*self.b)"
   ]
  },
  {
   "cell_type": "code",
   "execution_count": 104,
   "id": "13b2ae0d",
   "metadata": {},
   "outputs": [
    {
     "ename": "TypeError",
     "evalue": "Can't instantiate abstract class Rectangle with abstract method area",
     "output_type": "error",
     "traceback": [
      "\u001b[1;31m---------------------------------------------------------------------------\u001b[0m",
      "\u001b[1;31mTypeError\u001b[0m                                 Traceback (most recent call last)",
      "\u001b[1;32m~\\AppData\\Local\\Temp/ipykernel_9332/4225915659.py\u001b[0m in \u001b[0;36m<module>\u001b[1;34m\u001b[0m\n\u001b[1;32m----> 1\u001b[1;33m \u001b[0mre\u001b[0m\u001b[1;33m=\u001b[0m\u001b[0mRectangle\u001b[0m\u001b[1;33m(\u001b[0m\u001b[1;36m3\u001b[0m\u001b[1;33m,\u001b[0m\u001b[1;36m4\u001b[0m\u001b[1;33m)\u001b[0m\u001b[1;33m\u001b[0m\u001b[1;33m\u001b[0m\u001b[0m\n\u001b[0m",
      "\u001b[1;31mTypeError\u001b[0m: Can't instantiate abstract class Rectangle with abstract method area"
     ]
    }
   ],
   "source": [
    "re=Rectangle(3,4)"
   ]
  },
  {
   "cell_type": "code",
   "execution_count": null,
   "id": "fec09754",
   "metadata": {},
   "outputs": [],
   "source": [
    "#### must be area method only - common functionality must be there "
   ]
  },
  {
   "cell_type": "code",
   "execution_count": 105,
   "id": "f082edcd",
   "metadata": {},
   "outputs": [],
   "source": [
    "### creating more common functionality \n",
    "\n",
    "class Shape(ABC):\n",
    "    @abstractmethod\n",
    "    def area(self):\n",
    "        pass\n",
    "    def printName(self):\n",
    "        print ('In shape Class')\n",
    "\n",
    "# derived from shape\n",
    "class Square(Shape):\n",
    "    def __init__(self,length):\n",
    "        self.length=length\n",
    "    def area(self):\n",
    "        print('Square Area :',self.length**2)\n",
    "\n",
    "# derived from shape\n",
    "class Rectangle(Shape):\n",
    "    def __init__(self,l,b):\n",
    "        self.l=l\n",
    "        self.b=b\n",
    "    def area(self):\n",
    "        print('Rectangle Area :',self.l*self.b)"
   ]
  },
  {
   "cell_type": "code",
   "execution_count": 106,
   "id": "cf577f0e",
   "metadata": {},
   "outputs": [],
   "source": [
    "re=Rectangle(3,4)"
   ]
  },
  {
   "cell_type": "code",
   "execution_count": 107,
   "id": "c575a355",
   "metadata": {},
   "outputs": [
    {
     "name": "stdout",
     "output_type": "stream",
     "text": [
      "Rectangle Area : 12\n"
     ]
    }
   ],
   "source": [
    "re.area()"
   ]
  },
  {
   "cell_type": "code",
   "execution_count": null,
   "id": "b8caf3eb",
   "metadata": {},
   "outputs": [],
   "source": [
    "#need common interface-whatever method we hv defined in abstract\n",
    "# should be in child class\n",
    "# then only from universal remote I can access common functionality"
   ]
  },
  {
   "cell_type": "code",
   "execution_count": 108,
   "id": "3993c291",
   "metadata": {},
   "outputs": [],
   "source": [
    "class Shape(ABC):\n",
    "    @abstractmethod\n",
    "    def area(self):\n",
    "        pass\n",
    "    def printName(self):\n",
    "        print ('In shape Class')\n",
    "\n",
    "# derived from shape\n",
    "class Square(Shape):\n",
    "    def __init__(self,length):\n",
    "        self.length=length\n",
    "    def area(self):\n",
    "        print('Square Area :',self.length**2)\n",
    "    def printdetailsSq(self):\n",
    "        print('My own Patented Functionality')\n",
    "\n",
    "# derived from shape\n",
    "class Rectangle(Shape):\n",
    "    def __init__(self,l,b):\n",
    "        self.l=l\n",
    "        self.b=b\n",
    "    def area(self):\n",
    "        print('Rectangle Area :',self.l*self.b)\n",
    "    def printdetailsRect(self):\n",
    "        print('My own Patented Functionality')"
   ]
  },
  {
   "cell_type": "code",
   "execution_count": 109,
   "id": "1bcad73e",
   "metadata": {},
   "outputs": [],
   "source": [
    "# additional can be but not compulsory\n",
    "# common must be der\n",
    "sq2=Square(5)"
   ]
  },
  {
   "cell_type": "code",
   "execution_count": 110,
   "id": "e96729b0",
   "metadata": {},
   "outputs": [],
   "source": [
    "### what common functionallity we want that are defined in abstract class"
   ]
  },
  {
   "cell_type": "code",
   "execution_count": null,
   "id": "bd477d5e",
   "metadata": {},
   "outputs": [],
   "source": [
    "## does python supports the tru OOPS Principles\n",
    "#Ans -No\n",
    "\n",
    "# monkey Patching - object attributes"
   ]
  },
  {
   "cell_type": "code",
   "execution_count": 111,
   "id": "4c957cc7",
   "metadata": {},
   "outputs": [],
   "source": [
    "# monkey Patching\n",
    "class Student:\n",
    "    def __init__(self,name):\n",
    "        self.name=name\n",
    "        \n",
    "    def printDetails(self):\n",
    "        print('Name is ',self.name)\n"
   ]
  },
  {
   "cell_type": "code",
   "execution_count": 112,
   "id": "2391e988",
   "metadata": {},
   "outputs": [],
   "source": [
    "s1=Student('Pankaj')"
   ]
  },
  {
   "cell_type": "code",
   "execution_count": 113,
   "id": "9f9ab226",
   "metadata": {},
   "outputs": [],
   "source": [
    "s2=Student('Aawli')"
   ]
  },
  {
   "cell_type": "code",
   "execution_count": 114,
   "id": "3d33acd1",
   "metadata": {},
   "outputs": [],
   "source": [
    "s2.lang='C++'\n",
    "# belongs to object s2 -> object class - this is only availble in python OOPS"
   ]
  },
  {
   "cell_type": "code",
   "execution_count": null,
   "id": "c343bfa2",
   "metadata": {},
   "outputs": [],
   "source": []
  },
  {
   "cell_type": "code",
   "execution_count": 115,
   "id": "0ed10cb5",
   "metadata": {},
   "outputs": [],
   "source": [
    "class Number:\n",
    "    \n",
    "    def sum(self):\n",
    "        return self.a + self.b"
   ]
  },
  {
   "cell_type": "code",
   "execution_count": 116,
   "id": "0416128b",
   "metadata": {},
   "outputs": [
    {
     "data": {
      "text/plain": [
       "16"
      ]
     },
     "execution_count": 116,
     "metadata": {},
     "output_type": "execute_result"
    }
   ],
   "source": [
    "# self refers to the object\n",
    "num = Number()\n",
    "\n",
    "num.a = 9\n",
    "num.b = 7\n",
    "num.sum()"
   ]
  },
  {
   "cell_type": "code",
   "execution_count": 117,
   "id": "c5e72fbe",
   "metadata": {},
   "outputs": [],
   "source": [
    "# monkey patching\n",
    "num.c = 17"
   ]
  },
  {
   "cell_type": "code",
   "execution_count": null,
   "id": "96d695ed",
   "metadata": {},
   "outputs": [],
   "source": []
  },
  {
   "cell_type": "code",
   "execution_count": null,
   "id": "99a99c51",
   "metadata": {},
   "outputs": [],
   "source": []
  },
  {
   "cell_type": "markdown",
   "id": "c3247295",
   "metadata": {},
   "source": [
    "## Practice "
   ]
  },
  {
   "cell_type": "code",
   "execution_count": 1,
   "id": "4d0e24dc",
   "metadata": {},
   "outputs": [],
   "source": [
    "## Q1. Create a class C-2D Vector & use it to create another class representing a 3-d vector\n",
    "\n",
    "class C2dvec:\n",
    "    def __init__(self,i,j):\n",
    "        self.icap = i\n",
    "        self.jcap = j\n",
    "    \n",
    "    def __str__(self):\n",
    "        return f'{self.icap}i + {self.jcap}j' \n",
    "        \n",
    "class C3dvec(C2dvec):\n",
    "    \n",
    "    def __init__(self,i,j,k):\n",
    "        super().__init__(i,j)\n",
    "        self.kcap = k\n",
    "    \n",
    "    def __str__(self):\n",
    "        return f'{self.icap}i + {self.jcap}j + {self.kcap}k'     "
   ]
  },
  {
   "cell_type": "code",
   "execution_count": 2,
   "id": "ae508325",
   "metadata": {},
   "outputs": [
    {
     "name": "stdout",
     "output_type": "stream",
     "text": [
      "1i + 3j\n",
      "1i + 9j + 7k\n"
     ]
    }
   ],
   "source": [
    "v2d = C2dvec(1, 3)\n",
    "v3d = C3dvec(1, 9, 7)\n",
    "print(v2d)\n",
    "print(v3d)"
   ]
  },
  {
   "cell_type": "code",
   "execution_count": 4,
   "id": "1010f574",
   "metadata": {},
   "outputs": [
    {
     "name": "stdout",
     "output_type": "stream",
     "text": [
      "1500.0\n",
      "2.0\n"
     ]
    }
   ],
   "source": [
    "# Q2 Create a class employee and add salary & increment properties to it. Write a method salary after increment method with a \n",
    "# property decorator with a setter which changes the value of increment based on the salary.\n",
    "\n",
    "class Employee:\n",
    "    \n",
    "    def __init__(self,salary,increment):\n",
    "        self.salary = salary\n",
    "        self.increment = increment\n",
    "    \n",
    "    @property\n",
    "    def totalSalary(self):\n",
    "        return self.salary * self.increment\n",
    "    \n",
    "    @totalSalary.setter\n",
    "    def totalSalary(self,new_salary):\n",
    "        self.increment = new_salary / self.salary \n",
    "   \n",
    "e = Employee(1000,1.5)\n",
    "print(e.totalSalary)\n",
    "\n",
    "e.totalSalary = 2000\n",
    "print(e.increment)\n",
    "        "
   ]
  },
  {
   "cell_type": "code",
   "execution_count": null,
   "id": "020374bc",
   "metadata": {},
   "outputs": [],
   "source": []
  },
  {
   "cell_type": "code",
   "execution_count": 7,
   "id": "c1c9b672",
   "metadata": {},
   "outputs": [
    {
     "name": "stdout",
     "output_type": "stream",
     "text": [
      "332 - 41 i\n",
      "183 - 1361 i\n"
     ]
    }
   ],
   "source": [
    "## Write a class complex to represent the complex no along with overloaded operators + & * which adds & mul\n",
    "# complex no =  real + imaginary = 1 + 5j\n",
    "# addition (a+bi)(c+di) = (a+c) + (b+d)i\n",
    "# multiplication (a+bi)(c+di) = (ac−bd) + (ad+bc)i\n",
    "\n",
    "\n",
    "class Complex:\n",
    "    def __init__(self, r, i):\n",
    "        self.real = r\n",
    "        self.imaginary = i\n",
    "\n",
    "    def __str__(self):\n",
    "        if self.imaginary < 0:\n",
    "            return f'{self.real} - {-self.imaginary} i'\n",
    "        else:\n",
    "            return f'{self.real} + {self.imaginary} i'\n",
    "\n",
    "    def __add__(self, num):\n",
    "        return Complex(self.real + num.real, self.imaginary + num.imaginary)  # to return as str\n",
    "\n",
    "    def __mul__(self, num):\n",
    "        real_part = (self.real * num.real) - (num.imaginary * self.imaginary)\n",
    "        imaginary_part = (self.real * num.imaginary) + (self.imaginary * num.real)\n",
    "        return Complex(real_part, imaginary_part)\n",
    "\n",
    "c1 = Complex(1, -4)\n",
    "c2 = Complex(331, -37)\n",
    "print(c1 + c2)\n",
    "print(c1 * c2)"
   ]
  },
  {
   "cell_type": "code",
   "execution_count": null,
   "id": "fbeb6db3",
   "metadata": {},
   "outputs": [],
   "source": []
  },
  {
   "cell_type": "code",
   "execution_count": 13,
   "id": "a133bdf3",
   "metadata": {},
   "outputs": [
    {
     "name": "stdout",
     "output_type": "stream",
     "text": [
      "2j0 +10j1 +15j2 \n",
      "79\n"
     ]
    }
   ],
   "source": [
    "# Q - write a clas vector representing a vector of n dim.overload operators + & * which adds & dot product\n",
    "# vect = 1 (i0) + 4 (i1) + ... + 7 (in)\n",
    "# pass a list - [ 1,2,3,4, ...]\n",
    "\n",
    "class Vector:\n",
    "\n",
    "    def __init__(self, vec):\n",
    "        self.vec = vec\n",
    "\n",
    "    def __str__(self):\n",
    "        str1 = ''\n",
    "        for i in range(len(self.vec)):\n",
    "            str1 = str1 + f'{self.vec[i]}j{i} +'\n",
    "        return str1[:-1]\n",
    "\n",
    "    def __add__(self, vec2):\n",
    "        add_list = []\n",
    "        for i in range(len(self.vec)):\n",
    "            add_list.append(self.vec[i] + vec2.vec[i])\n",
    "        return Vector(add_list)\n",
    "    \n",
    "    def __mul__(self,vec2):\n",
    "        mult = 0\n",
    "        for i in range(len(self.vec)):\n",
    "            mult+= (self.vec[i] * vec2.vec[i])\n",
    "        return mult\n",
    "\n",
    "v1 = Vector([1, 4, 6])\n",
    "v2 = Vector([1, 6, 9])\n",
    "print(v1+v2)\n",
    "print(v1*v2)"
   ]
  },
  {
   "cell_type": "code",
   "execution_count": 14,
   "id": "7bae49d5",
   "metadata": {},
   "outputs": [
    {
     "name": "stdout",
     "output_type": "stream",
     "text": [
      "4\n",
      "3\n"
     ]
    }
   ],
   "source": [
    "# Q - write a clas vector representing a vector of n dim.overload operators + & * which adds & dot product OVERLOAD LEN (ABOVE)\n",
    "# vect = 1 (i0) + 4 (i1) + ... + 7 (in)\n",
    "# pass a list - [ 1,2,3,4, ...]\n",
    "\n",
    "class Vector:\n",
    "\n",
    "    def __init__(self, vec):\n",
    "        self.vec = vec\n",
    "\n",
    "    def __str__(self):\n",
    "        str1 = ''\n",
    "        for i in range(len(self.vec)):\n",
    "            str1 = str1 + f'{self.vec[i]}j{i} +'\n",
    "        return str1[:-1]\n",
    "\n",
    "    def __add__(self, vec2):\n",
    "        add_list = []\n",
    "        for i in range(len(self.vec)):\n",
    "            add_list.append(self.vec[i] + vec2.vec[i])\n",
    "        return Vector(add_list)\n",
    "    \n",
    "    def __mul__(self,vec2):\n",
    "        mult = 0\n",
    "        for i in range(len(self.vec)):\n",
    "            mult+= (self.vec[i] * vec2.vec[i])\n",
    "        return mult\n",
    "    \n",
    "    def __len__(self):\n",
    "        \n",
    "        return len(self.vec)\n",
    "\n",
    "v1 = Vector([1, 4, 6, 6])\n",
    "v2 = Vector([1, 6, 9])\n",
    "\n",
    "print(len(v1))\n",
    "print(len(v2))\n"
   ]
  },
  {
   "cell_type": "code",
   "execution_count": null,
   "id": "0e9fb825",
   "metadata": {},
   "outputs": [],
   "source": []
  },
  {
   "cell_type": "code",
   "execution_count": null,
   "id": "7f3bf587",
   "metadata": {},
   "outputs": [],
   "source": []
  },
  {
   "cell_type": "code",
   "execution_count": null,
   "id": "54a64318",
   "metadata": {},
   "outputs": [],
   "source": []
  },
  {
   "cell_type": "code",
   "execution_count": null,
   "id": "38d40884",
   "metadata": {},
   "outputs": [],
   "source": []
  }
 ],
 "metadata": {
  "kernelspec": {
   "display_name": "Python 3 (ipykernel)",
   "language": "python",
   "name": "python3"
  },
  "language_info": {
   "codemirror_mode": {
    "name": "ipython",
    "version": 3
   },
   "file_extension": ".py",
   "mimetype": "text/x-python",
   "name": "python",
   "nbconvert_exporter": "python",
   "pygments_lexer": "ipython3",
   "version": "3.9.7"
  },
  "varInspector": {
   "cols": {
    "lenName": 16,
    "lenType": 16,
    "lenVar": 40
   },
   "kernels_config": {
    "python": {
     "delete_cmd_postfix": "",
     "delete_cmd_prefix": "del ",
     "library": "var_list.py",
     "varRefreshCmd": "print(var_dic_list())"
    },
    "r": {
     "delete_cmd_postfix": ") ",
     "delete_cmd_prefix": "rm(",
     "library": "var_list.r",
     "varRefreshCmd": "cat(var_dic_list()) "
    }
   },
   "types_to_exclude": [
    "module",
    "function",
    "builtin_function_or_method",
    "instance",
    "_Feature"
   ],
   "window_display": false
  }
 },
 "nbformat": 4,
 "nbformat_minor": 5
}
